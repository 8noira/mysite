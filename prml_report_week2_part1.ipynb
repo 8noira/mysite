{
  "nbformat": 4,
  "nbformat_minor": 5,
  "metadata": {
    "kernelspec": {
      "display_name": "Python 3",
      "language": "python",
      "name": "python3"
    },
    "language_info": {
      "codemirror_mode": {
        "name": "ipython",
        "version": 3
      },
      "file_extension": ".py",
      "mimetype": "text/x-python",
      "name": "python",
      "nbconvert_exporter": "python",
      "pygments_lexer": "ipython3",
      "version": "3.7.0"
    },
    "colab": {
      "name": "prml_report_week2_part1.ipynb",
      "provenance": [],
      "include_colab_link": true
    }
  },
  "cells": [
    {
      "cell_type": "markdown",
      "metadata": {
        "id": "view-in-github",
        "colab_type": "text"
      },
      "source": [
        "<a href=\"https://colab.research.google.com/github/8noira/mysite/blob/master/prml_report_week2_part1.ipynb\" target=\"_parent\"><img src=\"https://colab.research.google.com/assets/colab-badge.svg\" alt=\"Open In Colab\"/></a>"
      ]
    },
    {
      "cell_type": "markdown",
      "metadata": {
        "id": "7930a31c"
      },
      "source": [
        "# Advanced Pattern Recognition Report\n",
        "Department of Advanced Mathematical Sciences\n",
        "\n",
        "6930320070 Yuki Matsuda"
      ],
      "id": "7930a31c"
    },
    {
      "cell_type": "markdown",
      "metadata": {
        "id": "56292dbb"
      },
      "source": [
        "In this case, we performed a linear regression on two different data sets. The first file to be submitted is a regular linear regression and the second is a regression using a non-linear function as the basis."
      ],
      "id": "56292dbb"
    },
    {
      "cell_type": "markdown",
      "metadata": {
        "id": "8fc52d5c"
      },
      "source": [
        "# Data set used\n",
        "Ordinary linear regression\n",
        "We used the Boston Housing dataset; all 13 features were used to predict building prices.\n",
        "(Features: crime rate, percentage of residential land above a certain value, percentage of non-retailers, presence of river, nitrous oxide concentration, average number of rooms, age ratio, distance to employment centers, highway accessibility, property tax rate, percentage of student teachers, percentage of blacks, median status per population)\n",
        "\n",
        "Basis functions with Gaussian and sigmoid functions\n",
        "We used a data set with pairs of student profile information and test results.\n",
        "In this case, reading scores were predicted from math scores.\n",
        "\n",
        "Translated with www.DeepL.com/Translator (free version)"
      ],
      "id": "8fc52d5c"
    },
    {
      "cell_type": "markdown",
      "metadata": {
        "id": "e76225c9"
      },
      "source": [
        "# Regression analysis performed\n",
        "Ordinary linear regression\n",
        "Linear regression was performed using the linear combination of each data. In addition, a regularized ridge regression using the L2 norm was also performed in addition. In this case, the parameters were determined by the normal equation derived from the stopping point condition of the error function, rather than directly minimizing the error function.\n",
        "\n",
        "Using Gaussian and Sigmoid functions\n",
        "Linear regression was performed for the function bases changed to Gaussian and sigmoid functions, respectively. In this case, as in ordinary linear regression, the parameters were determined by the normal equation derived from the stopping point condition of the error function, rather than directly minimizing the error function.\n",
        "\n",
        "The detailed mathematical derivations of both are described later in the Appendix."
      ],
      "id": "e76225c9"
    },
    {
      "cell_type": "code",
      "metadata": {
        "id": "38858e07"
      },
      "source": [
        "import pandas as pd\n",
        "import numpy as np\n",
        "import matplotlib.pyplot as plt\n",
        "from sklearn.datasets import load_boston"
      ],
      "id": "38858e07",
      "execution_count": null,
      "outputs": []
    },
    {
      "cell_type": "code",
      "metadata": {
        "id": "d47a379a"
      },
      "source": [
        "class LinearReg:\n",
        "\n",
        "    def __init__(self):\n",
        "        self.coef_ = None\n",
        "        self.intercept_ = None\n",
        "\n",
        "    def fit(self, X, y):\n",
        "        #insert w_0\n",
        "        X = np.insert(X, 0, 1, axis=1)\n",
        "        i = np.eye(X.shape[1])\n",
        "        #Solving normal equation\n",
        "        temp = np.linalg.inv(X.T @ X ) @ X.T @ y\n",
        "        self.coef_ = temp[1:]\n",
        "        self.intercept_ = temp[0]"
      ],
      "id": "d47a379a",
      "execution_count": null,
      "outputs": []
    },
    {
      "cell_type": "code",
      "metadata": {
        "id": "27a237ec"
      },
      "source": [
        "class RidgeReg:\n",
        "\n",
        "    def __init__(self, lambda_ = 1.0):\n",
        "        self.lambda_ = lambda_\n",
        "        self.coef_ = None\n",
        "        self.intercept_ = None\n",
        "\n",
        "    def fit(self, X, y):\n",
        "        #insert w_0\n",
        "        X = np.insert(X, 0, 1, axis=1)\n",
        "        i = np.eye(X.shape[1])\n",
        "        #Solving normal equation\n",
        "        temp = np.linalg.inv(X.T @ X + self.lambda_ * i) @ X.T @ y\n",
        "        self.coef_ = temp[1:]\n",
        "        self.intercept_ = temp[0]"
      ],
      "id": "27a237ec",
      "execution_count": null,
      "outputs": []
    },
    {
      "cell_type": "code",
      "metadata": {
        "id": "35b29b92",
        "outputId": "4dede0b9-9726-4f4a-c576-ae0fc7696283"
      },
      "source": [
        "boston = load_boston()\n",
        "df = pd.DataFrame(boston.data, columns=boston.feature_names)\n",
        "target = boston.target\n",
        "\n",
        "df['target'] = target       \n",
        "df"
      ],
      "id": "35b29b92",
      "execution_count": null,
      "outputs": [
        {
          "output_type": "execute_result",
          "data": {
            "text/html": [
              "<div>\n",
              "<style scoped>\n",
              "    .dataframe tbody tr th:only-of-type {\n",
              "        vertical-align: middle;\n",
              "    }\n",
              "\n",
              "    .dataframe tbody tr th {\n",
              "        vertical-align: top;\n",
              "    }\n",
              "\n",
              "    .dataframe thead th {\n",
              "        text-align: right;\n",
              "    }\n",
              "</style>\n",
              "<table border=\"1\" class=\"dataframe\">\n",
              "  <thead>\n",
              "    <tr style=\"text-align: right;\">\n",
              "      <th></th>\n",
              "      <th>CRIM</th>\n",
              "      <th>ZN</th>\n",
              "      <th>INDUS</th>\n",
              "      <th>CHAS</th>\n",
              "      <th>NOX</th>\n",
              "      <th>RM</th>\n",
              "      <th>AGE</th>\n",
              "      <th>DIS</th>\n",
              "      <th>RAD</th>\n",
              "      <th>TAX</th>\n",
              "      <th>PTRATIO</th>\n",
              "      <th>B</th>\n",
              "      <th>LSTAT</th>\n",
              "      <th>target</th>\n",
              "    </tr>\n",
              "  </thead>\n",
              "  <tbody>\n",
              "    <tr>\n",
              "      <th>0</th>\n",
              "      <td>0.00632</td>\n",
              "      <td>18.0</td>\n",
              "      <td>2.31</td>\n",
              "      <td>0.0</td>\n",
              "      <td>0.538</td>\n",
              "      <td>6.575</td>\n",
              "      <td>65.2</td>\n",
              "      <td>4.0900</td>\n",
              "      <td>1.0</td>\n",
              "      <td>296.0</td>\n",
              "      <td>15.3</td>\n",
              "      <td>396.90</td>\n",
              "      <td>4.98</td>\n",
              "      <td>24.0</td>\n",
              "    </tr>\n",
              "    <tr>\n",
              "      <th>1</th>\n",
              "      <td>0.02731</td>\n",
              "      <td>0.0</td>\n",
              "      <td>7.07</td>\n",
              "      <td>0.0</td>\n",
              "      <td>0.469</td>\n",
              "      <td>6.421</td>\n",
              "      <td>78.9</td>\n",
              "      <td>4.9671</td>\n",
              "      <td>2.0</td>\n",
              "      <td>242.0</td>\n",
              "      <td>17.8</td>\n",
              "      <td>396.90</td>\n",
              "      <td>9.14</td>\n",
              "      <td>21.6</td>\n",
              "    </tr>\n",
              "    <tr>\n",
              "      <th>2</th>\n",
              "      <td>0.02729</td>\n",
              "      <td>0.0</td>\n",
              "      <td>7.07</td>\n",
              "      <td>0.0</td>\n",
              "      <td>0.469</td>\n",
              "      <td>7.185</td>\n",
              "      <td>61.1</td>\n",
              "      <td>4.9671</td>\n",
              "      <td>2.0</td>\n",
              "      <td>242.0</td>\n",
              "      <td>17.8</td>\n",
              "      <td>392.83</td>\n",
              "      <td>4.03</td>\n",
              "      <td>34.7</td>\n",
              "    </tr>\n",
              "    <tr>\n",
              "      <th>3</th>\n",
              "      <td>0.03237</td>\n",
              "      <td>0.0</td>\n",
              "      <td>2.18</td>\n",
              "      <td>0.0</td>\n",
              "      <td>0.458</td>\n",
              "      <td>6.998</td>\n",
              "      <td>45.8</td>\n",
              "      <td>6.0622</td>\n",
              "      <td>3.0</td>\n",
              "      <td>222.0</td>\n",
              "      <td>18.7</td>\n",
              "      <td>394.63</td>\n",
              "      <td>2.94</td>\n",
              "      <td>33.4</td>\n",
              "    </tr>\n",
              "    <tr>\n",
              "      <th>4</th>\n",
              "      <td>0.06905</td>\n",
              "      <td>0.0</td>\n",
              "      <td>2.18</td>\n",
              "      <td>0.0</td>\n",
              "      <td>0.458</td>\n",
              "      <td>7.147</td>\n",
              "      <td>54.2</td>\n",
              "      <td>6.0622</td>\n",
              "      <td>3.0</td>\n",
              "      <td>222.0</td>\n",
              "      <td>18.7</td>\n",
              "      <td>396.90</td>\n",
              "      <td>5.33</td>\n",
              "      <td>36.2</td>\n",
              "    </tr>\n",
              "    <tr>\n",
              "      <th>...</th>\n",
              "      <td>...</td>\n",
              "      <td>...</td>\n",
              "      <td>...</td>\n",
              "      <td>...</td>\n",
              "      <td>...</td>\n",
              "      <td>...</td>\n",
              "      <td>...</td>\n",
              "      <td>...</td>\n",
              "      <td>...</td>\n",
              "      <td>...</td>\n",
              "      <td>...</td>\n",
              "      <td>...</td>\n",
              "      <td>...</td>\n",
              "      <td>...</td>\n",
              "    </tr>\n",
              "    <tr>\n",
              "      <th>501</th>\n",
              "      <td>0.06263</td>\n",
              "      <td>0.0</td>\n",
              "      <td>11.93</td>\n",
              "      <td>0.0</td>\n",
              "      <td>0.573</td>\n",
              "      <td>6.593</td>\n",
              "      <td>69.1</td>\n",
              "      <td>2.4786</td>\n",
              "      <td>1.0</td>\n",
              "      <td>273.0</td>\n",
              "      <td>21.0</td>\n",
              "      <td>391.99</td>\n",
              "      <td>9.67</td>\n",
              "      <td>22.4</td>\n",
              "    </tr>\n",
              "    <tr>\n",
              "      <th>502</th>\n",
              "      <td>0.04527</td>\n",
              "      <td>0.0</td>\n",
              "      <td>11.93</td>\n",
              "      <td>0.0</td>\n",
              "      <td>0.573</td>\n",
              "      <td>6.120</td>\n",
              "      <td>76.7</td>\n",
              "      <td>2.2875</td>\n",
              "      <td>1.0</td>\n",
              "      <td>273.0</td>\n",
              "      <td>21.0</td>\n",
              "      <td>396.90</td>\n",
              "      <td>9.08</td>\n",
              "      <td>20.6</td>\n",
              "    </tr>\n",
              "    <tr>\n",
              "      <th>503</th>\n",
              "      <td>0.06076</td>\n",
              "      <td>0.0</td>\n",
              "      <td>11.93</td>\n",
              "      <td>0.0</td>\n",
              "      <td>0.573</td>\n",
              "      <td>6.976</td>\n",
              "      <td>91.0</td>\n",
              "      <td>2.1675</td>\n",
              "      <td>1.0</td>\n",
              "      <td>273.0</td>\n",
              "      <td>21.0</td>\n",
              "      <td>396.90</td>\n",
              "      <td>5.64</td>\n",
              "      <td>23.9</td>\n",
              "    </tr>\n",
              "    <tr>\n",
              "      <th>504</th>\n",
              "      <td>0.10959</td>\n",
              "      <td>0.0</td>\n",
              "      <td>11.93</td>\n",
              "      <td>0.0</td>\n",
              "      <td>0.573</td>\n",
              "      <td>6.794</td>\n",
              "      <td>89.3</td>\n",
              "      <td>2.3889</td>\n",
              "      <td>1.0</td>\n",
              "      <td>273.0</td>\n",
              "      <td>21.0</td>\n",
              "      <td>393.45</td>\n",
              "      <td>6.48</td>\n",
              "      <td>22.0</td>\n",
              "    </tr>\n",
              "    <tr>\n",
              "      <th>505</th>\n",
              "      <td>0.04741</td>\n",
              "      <td>0.0</td>\n",
              "      <td>11.93</td>\n",
              "      <td>0.0</td>\n",
              "      <td>0.573</td>\n",
              "      <td>6.030</td>\n",
              "      <td>80.8</td>\n",
              "      <td>2.5050</td>\n",
              "      <td>1.0</td>\n",
              "      <td>273.0</td>\n",
              "      <td>21.0</td>\n",
              "      <td>396.90</td>\n",
              "      <td>7.88</td>\n",
              "      <td>11.9</td>\n",
              "    </tr>\n",
              "  </tbody>\n",
              "</table>\n",
              "<p>506 rows × 14 columns</p>\n",
              "</div>"
            ],
            "text/plain": [
              "        CRIM    ZN  INDUS  CHAS    NOX     RM   AGE     DIS  RAD    TAX  \\\n",
              "0    0.00632  18.0   2.31   0.0  0.538  6.575  65.2  4.0900  1.0  296.0   \n",
              "1    0.02731   0.0   7.07   0.0  0.469  6.421  78.9  4.9671  2.0  242.0   \n",
              "2    0.02729   0.0   7.07   0.0  0.469  7.185  61.1  4.9671  2.0  242.0   \n",
              "3    0.03237   0.0   2.18   0.0  0.458  6.998  45.8  6.0622  3.0  222.0   \n",
              "4    0.06905   0.0   2.18   0.0  0.458  7.147  54.2  6.0622  3.0  222.0   \n",
              "..       ...   ...    ...   ...    ...    ...   ...     ...  ...    ...   \n",
              "501  0.06263   0.0  11.93   0.0  0.573  6.593  69.1  2.4786  1.0  273.0   \n",
              "502  0.04527   0.0  11.93   0.0  0.573  6.120  76.7  2.2875  1.0  273.0   \n",
              "503  0.06076   0.0  11.93   0.0  0.573  6.976  91.0  2.1675  1.0  273.0   \n",
              "504  0.10959   0.0  11.93   0.0  0.573  6.794  89.3  2.3889  1.0  273.0   \n",
              "505  0.04741   0.0  11.93   0.0  0.573  6.030  80.8  2.5050  1.0  273.0   \n",
              "\n",
              "     PTRATIO       B  LSTAT  target  \n",
              "0       15.3  396.90   4.98    24.0  \n",
              "1       17.8  396.90   9.14    21.6  \n",
              "2       17.8  392.83   4.03    34.7  \n",
              "3       18.7  394.63   2.94    33.4  \n",
              "4       18.7  396.90   5.33    36.2  \n",
              "..       ...     ...    ...     ...  \n",
              "501     21.0  391.99   9.67    22.4  \n",
              "502     21.0  396.90   9.08    20.6  \n",
              "503     21.0  396.90   5.64    23.9  \n",
              "504     21.0  393.45   6.48    22.0  \n",
              "505     21.0  396.90   7.88    11.9  \n",
              "\n",
              "[506 rows x 14 columns]"
            ]
          },
          "metadata": {
            "tags": []
          },
          "execution_count": 52
        }
      ]
    },
    {
      "cell_type": "code",
      "metadata": {
        "id": "2c02e5f3"
      },
      "source": [
        "X = df[['ZN','INDUS', 'CRIM','CHAS','NOX','RM','AGE','DIS','RAD','TAX','PTRATIO','B','LSTAT']].values\n",
        "y = df['target'].values\n",
        "from sklearn.model_selection import train_test_split\n",
        "X_train,X_test,y_train,y_test=train_test_split(X,y,test_size=0.3,random_state=0)\n",
        "\n",
        "linear1 = LinearReg()\n",
        "linear1.fit(X_train,y_train)\n",
        "\n",
        "linear2 = RidgeReg(lambda_ = 1)\n",
        "linear2.fit(X_train,y_train)\n",
        "\n",
        "linear3=RidgeReg(lambda_ = 10)\n",
        "linear3.fit(X_train,y_train)\n",
        "\n",
        "#y_train_pred=X_train@linear2.coef_+linear2.intercept_\n",
        "#y_test_pred=X_test@linear2.coef_+linear2.intercept_\n",
        "#print(linear1.coef_)\n",
        "#print(linear1.intercept_)"
      ],
      "id": "2c02e5f3",
      "execution_count": null,
      "outputs": []
    },
    {
      "cell_type": "code",
      "metadata": {
        "id": "cedcec9c",
        "outputId": "aedfb5e4-edc1-47f0-8681-76fb6a2a514d"
      },
      "source": [
        "plt.plot(linear1.coef_, label='LinearRegression', color='r', linestyle=':')\n",
        "plt.plot(linear2.coef_, label='Ridge lambda=1.0', color='b', linestyle='--')\n",
        "plt.plot(linear3.coef_, label='Ridge lambda=10.0', color='g', linestyle='-.')\n",
        "plt.xlabel('Features', fontsize=10)\n",
        "plt.ylabel('Coefficient', fontsize=10)\n",
        "plt.legend();"
      ],
      "id": "cedcec9c",
      "execution_count": null,
      "outputs": [
        {
          "output_type": "display_data",
          "data": {
            "image/png": "[encoded data removed]",
            "text/plain": [
              "<Figure size 432x288 with 1 Axes>"
            ]
          },
          "metadata": {
            "tags": [],
            "needs_background": "light"
          }
        }
      ]
    },
    {
      "cell_type": "code",
      "metadata": {
        "id": "4bba03d2",
        "outputId": "b7e33b01-a733-4cf6-f2b8-fc5cf2934089"
      },
      "source": [
        "y_pred_linear_tr=X_train@linear1.coef_+linear1.intercept_\n",
        "y_pred_ridge_1_tr=X_train@linear2.coef_+linear2.intercept_\n",
        "y_pred_ridge_10_tr=X_train@linear3.coef_+linear3.intercept_\n",
        "\n",
        "y_pred_linear_ts=X_test@linear1.coef_+linear1.intercept_\n",
        "y_pred_ridge_1_ts=X_test@linear2.coef_+linear2.intercept_\n",
        "y_pred_ridge_10_ts=X_test@linear3.coef_+linear3.intercept_\n",
        "\n",
        "from sklearn.metrics import mean_squared_error\n",
        "print('Ridge parameter 1.0 MSE train:%.3f, test:%.3f' %(mean_squared_error(y_train,y_pred_ridge_1_tr),mean_squared_error(y_test,y_pred_ridge_1_ts)))\n",
        "print('Ridge parameter 10.0 MSE train:%.3f, test:%.3f' %(mean_squared_error(y_train,y_pred_ridge_10_tr),mean_squared_error(y_test,y_pred_ridge_10_ts)))\n",
        "print('Linear regression MSE train:%.3f, test:%.3f' %(mean_squared_error(y_train,y_pred_linear_tr),mean_squared_error(y_test,y_pred_linear_ts)))"
      ],
      "id": "4bba03d2",
      "execution_count": null,
      "outputs": [
        {
          "output_type": "stream",
          "text": [
            "Ridge parameter 1.0 MSE train:20.999, test:28.303\n",
            "Ridge parameter 10.0 MSE train:22.186, test:29.085\n",
            "Linear regression MSE train:19.958, test:27.196\n"
          ],
          "name": "stdout"
        }
      ]
    }
  ]
}